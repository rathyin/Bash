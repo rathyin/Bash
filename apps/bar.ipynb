{
 "cells": [
  {
   "cell_type": "code",
   "execution_count": null,
   "id": "b5c55ccb",
   "metadata": {},
   "outputs": [],
   "source": [
    "from jupyter_dash import JupyterDash\n",
    "import dash\n",
    "import dash_bootstrap_components as dbc\n",
    "import dash_html_components as html\n",
    "import dash_core_components as dcc\n",
    "import plotly.express as px\n",
    "from dash.dependencies import Input, Output\n",
    "import pandas as pd\n",
    "from ipynb.fs.full.app  import app\n",
    "\n",
    "df = pd.read_csv('https://raw.githubusercontent.com/Coding-with-Adam/Dash-by-Plotly/master/Bootstrap/Side-Bar/iranian_students.csv')\n",
    "\n",
    "boys_list = [\"Boys Kindergarten\",\"Boys Middle School\",\"Boys High School\",\"Boys Grade School\"]\n",
    "girls_list = [\"Girls Kindergarten\",\"Girls Middle School\",\"Girls High School\",\"Girls Grade School\"]\n",
    " \n",
    "layout = html.Div([\n",
    "     html.H1('Students in Iran', style={\"textAlign\": \"center\"}), \n",
    "    html.Div([\n",
    "        html.Div([dcc.Dropdown(\n",
    "            id='boys-dropdown', value='Boys Grade School', clearable=False,\n",
    "            persistence=True, persistence_type='memory',\n",
    "            options=[{'label': x, 'value': x} for x in boys_list]\n",
    "        )],className = \"drop1\"),\n",
    "\n",
    "        html.Div([dcc.Dropdown(\n",
    "            id='girls-dropdown', value='Girls Grade School', clearable=False,\n",
    "            persistence=True, persistence_type='memory',\n",
    "            options=[{'label': x, 'value': x} for x in girls_list]\n",
    "        )],className = \"drop2\"),    \n",
    "    ],className = \"outerdiv\"),\n",
    "\n",
    "dcc.Graph(id='my-bar', figure={})\n",
    "],className = \"graph\")\n",
    "\n",
    "@app.callback(\n",
    "    Output(component_id='my-bar', component_property='figure'),\n",
    "    [Input(component_id='boys-dropdown', component_property='value'),\n",
    "     Input(component_id='girls-dropdown', component_property='value')]\n",
    ")\n",
    "def display_value(bvalue, gvalue):\n",
    "\n",
    "    fig=px.bar(df, barmode='group', x='Years',\n",
    "                         y=[bvalue,gvalue],color_discrete_sequence=[\"MediumSeaGreen\",\"orange\"], template=\"plotly_white\")\n",
    "    return fig"
   ]
  }
 ],
 "metadata": {
  "kernelspec": {
   "display_name": "Python 3",
   "language": "python",
   "name": "python3"
  },
  "language_info": {
   "codemirror_mode": {
    "name": "ipython",
    "version": 3
   },
   "file_extension": ".py",
   "mimetype": "text/x-python",
   "name": "python",
   "nbconvert_exporter": "python",
   "pygments_lexer": "ipython3",
   "version": "3.7.7"
  }
 },
 "nbformat": 4,
 "nbformat_minor": 5
}
