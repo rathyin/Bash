{
 "cells": [
  {
   "cell_type": "code",
   "execution_count": null,
   "id": "d8d8ad04",
   "metadata": {},
   "outputs": [],
   "source": [
    "from jupyter_dash import JupyterDash\n",
    "import dash\n",
    "import dash_bootstrap_components as dbc\n",
    "import dash_html_components as html\n",
    "import dash_core_components as dcc\n",
    "import plotly.express as px\n",
    "from dash.dependencies import Input, Output\n",
    "import pandas as pd\n",
    "import plotly.graph_objects as go\n",
    "from ipynb.fs.full.app  import app\n",
    "\n",
    "z_data = pd.read_csv(\"https://raw.githubusercontent.com/plotly/datasets/master/api_docs/mt_bruno_elevation.csv\")\n",
    "templates = [\"plotly\",\"plotly_white\",\"simple_white\",\"ggplot2\",\"seaborn\",\"plotly_dark\"]\n",
    "\n",
    "layout = html.Div([\n",
    "     html.H1('Mount Brouno Elevation', style={\"textAlign\": \"center\"}), \n",
    "    html.Div([\n",
    "     html.Div(dcc.Dropdown(\n",
    "            id='themes-dropdown', value='plotly', clearable=False,\n",
    "            persistence=True, persistence_type='memory',\n",
    "            options=[{'label': x, 'value': x} for x in templates]\n",
    "        ),className = \"dropmount\"),    \n",
    "    ]),\n",
    "\n",
    "dcc.Graph(id='my-map', figure={})\n",
    "],className = \"graph\")\n",
    "\n",
    "@app.callback(\n",
    "    Output(component_id='my-map', component_property='figure'),\n",
    "    [Input(component_id='themes-dropdown', component_property='value')]\n",
    ")\n",
    "def display_value(themes):\n",
    "\n",
    "    fig = go.Figure(\n",
    "    data=go.Surface(z=z_data.values),\n",
    "    layout=go.Layout(\n",
    "        width=1000,\n",
    "        height=700,\n",
    "        template = themes\n",
    "    ))\n",
    "    return fig\n",
    "\n",
    "\n"
   ]
  }
 ],
 "metadata": {
  "kernelspec": {
   "display_name": "Python 3",
   "language": "python",
   "name": "python3"
  },
  "language_info": {
   "codemirror_mode": {
    "name": "ipython",
    "version": 3
   },
   "file_extension": ".py",
   "mimetype": "text/x-python",
   "name": "python",
   "nbconvert_exporter": "python",
   "pygments_lexer": "ipython3",
   "version": "3.7.7"
  }
 },
 "nbformat": 4,
 "nbformat_minor": 5
}
