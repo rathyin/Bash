{
 "cells": [
  {
   "cell_type": "code",
   "execution_count": 1,
   "id": "ce77e16d",
   "metadata": {},
   "outputs": [
    {
     "name": "stdout",
     "output_type": "stream",
     "text": [
      "Dash app running on http://10.1.1.128:8050/\n"
     ]
    },
    {
     "name": "stderr",
     "output_type": "stream",
     "text": [
      "/home/rathyin/.local/lib/python3.7/site-packages/dash/resources.py:72: UserWarning: You have set your config to `serve_locally=True` but A local version of http://10.1.1.128:8888/edit/Dash/assets/custom.css# is not available.\n",
      "If you added this file with `app.scripts.append_script` or `app.css.append_css`, use `external_scripts` or `external_stylesheets` instead.\n",
      "See https://dash.plot.com/external-resources\n",
      "  ).format(s[\"external_url\"])\n"
     ]
    },
    {
     "name": "stdout",
     "output_type": "stream",
     "text": [
      "[*********************100%***********************]  1 of 1 completed\n",
      "[*********************100%***********************]  1 of 1 completed\n",
      "[*********************100%***********************]  1 of 1 completed\n",
      "[*********************100%***********************]  1 of 1 completed\n",
      "[*********************100%***********************]  1 of 1 completed\n",
      "[*********************100%***********************]  1 of 1 completed\n",
      "[*********************100%***********************]  1 of 1 completed\n",
      "[*********************100%***********************]  1 of 1 completed\n",
      "[*********************100%***********************]  1 of 1 completed\n",
      "[*********************100%***********************]  1 of 1 completed\n"
     ]
    }
   ],
   "source": [
    "from jupyter_dash import JupyterDash\n",
    "import dash\n",
    "import dash_bootstrap_components as dbc\n",
    "import dash_html_components as html\n",
    "import dash_core_components as dcc\n",
    "import plotly.express as px\n",
    "from dash.dependencies import Input, Output\n",
    "import pandas as pd\n",
    "import import_ipynb\n",
    "\n",
    "from ipynb.fs.full.app  import app\n",
    "from ipynb.fs.full.app  import server\n",
    "\n",
    "# Connect to your app pages\n",
    "# from apps import bar, mount\n",
    "# from ipynb.fs.full.apps.mount import *\n",
    "# from ipynb.fs.full.apps.bar import *\n",
    "from ipynb.fs.full.apps import bar\n",
    "from ipynb.fs.full.apps import mount\n",
    "from ipynb.fs.full.apps import knn\n",
    "from ipynb.fs.full.apps import stock\n",
    "app.css.append_css({\"external_url\": \"http://10.1.1.128:8888/edit/Dash/assets/custom.css#\"})\n",
    "\n",
    "# styling the sidebar\n",
    "SIDEBAR_STYLE = {\n",
    "    \"position\": \"fixed\",\n",
    "    \"top\": 0,\n",
    "    \"left\": 0,\n",
    "    \"bottom\": 0,\n",
    "    \"width\": \"16rem\",\n",
    "    \"padding\": \"2rem 1rem\",\n",
    "    \"background-color\": 'MediumSeaGreen',\n",
    "}\n",
    "app.layout = html.Div([\n",
    "    dcc.Location(id='url', refresh=False),\n",
    "    html.Div([\n",
    "        html.H2(\"Dashboard\"),\n",
    "        html.Hr(),\n",
    "        html.P(\"Plotly Dash Graphing Library\", className=\"lead\"),\n",
    "        dbc.Nav(\n",
    "         [\n",
    "#              dbc.NavLink(\"Stock\", href=\"/apps/bar\", active=\"exact\"),\n",
    "#              dbc.NavLink(\"Knn\", href=\"/apps/knn\", active=\"exact\"),\n",
    "#             dbc.NavLink(\"Themes\", href=\"/apps/mount\", active=\"exact\"),\n",
    "             dbc.NavLink(\"Stock\", href=\"/apps/stock\", active=\"exact\"),\n",
    "                 ],\n",
    "            vertical=True,\n",
    "            pills=True,),\n",
    "         ],style=SIDEBAR_STYLE),\n",
    "    html.Div(id='page-content', children=[])\n",
    "    \n",
    "])\n",
    "\n",
    "@app.callback(Output('page-content', 'children'),\n",
    "              [Input('url', 'pathname')])\n",
    "def display_page(pathname):\n",
    "    if pathname == '/apps/stock':\n",
    "        return stock.layout\n",
    "#     if pathname == '/apps/mount':\n",
    "#         return mount.layout\n",
    "#     if pathname == '/apps/stock':\n",
    "#         return stock.layout\n",
    "    else:\n",
    "        return stock.layout\n",
    "\n",
    "\n",
    "if __name__ == '__main__':\n",
    "    app.run_server(debug=True,host = \"10.1.1.128\", port=8050)\n"
   ]
  },
  {
   "cell_type": "code",
   "execution_count": null,
   "id": "2fc50bbb",
   "metadata": {},
   "outputs": [],
   "source": []
  },
  {
   "cell_type": "code",
   "execution_count": null,
   "id": "e5aa9111",
   "metadata": {},
   "outputs": [],
   "source": []
  }
 ],
 "metadata": {
  "kernelspec": {
   "display_name": "Python 3",
   "language": "python",
   "name": "python3"
  },
  "language_info": {
   "codemirror_mode": {
    "name": "ipython",
    "version": 3
   },
   "file_extension": ".py",
   "mimetype": "text/x-python",
   "name": "python",
   "nbconvert_exporter": "python",
   "pygments_lexer": "ipython3",
   "version": "3.7.7"
  }
 },
 "nbformat": 4,
 "nbformat_minor": 5
}
